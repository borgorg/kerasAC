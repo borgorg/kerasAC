{
 "cells": [
  {
   "cell_type": "code",
   "execution_count": 43,
   "metadata": {
    "ExecuteTime": {
     "end_time": "2020-09-15T06:38:11.122103Z",
     "start_time": "2020-09-15T06:37:40.138520Z"
    }
   },
   "outputs": [
    {
     "name": "stdout",
     "output_type": "stream",
     "text": [
      "The autoreload extension is already loaded. To reload it, use:\n",
      "  %reload_ext autoreload\n",
      "opening:/users/annashch/chip_and_dnase_db_H3K27Ac for reading...\n",
      "success!\n",
      "got indices for used chroms\n",
      "identified input dataset indices:[[], [0, 0], [0, 0]]\n",
      "identified output dataset indices:[[0, 0, 1], [0, 0, 1]]\n",
      "identified upsampling dataset indices:[0]\n",
      "num_threads:24\n",
      "starting getting indices to upsample in range:2777473071-2824183054\n",
      "finished indices to upsample in range:2777473071-2824183054\n",
      "closed upsampling pool\n",
      "made upsampled index data frame\n",
      "finished upsampling\n",
      "created generator\n"
     ]
    }
   ],
   "source": [
    "%load_ext autoreload\n",
    "%autoreload 2\n",
    "import kerasAC \n",
    "from kerasAC.generators.tiledb_generator import *\n",
    "from kerasAC.tiledb_config import *\n",
    "\n",
    "import tiledb \n",
    "gen=TiledbGenerator(batch_size=50,\n",
    "                    ref_fasta=\"/mnt/data/GRCh38_no_alt_analysis_set_GCA_000001405.15.fasta\",\n",
    "                    tdb_array=\"/users/annashch/chip_and_dnase_db_H3K27Ac\",\n",
    "                    chroms=['chr21'],\n",
    "                    num_inputs=3,\n",
    "                    num_outputs=2,\n",
    "                    tdb_input_datasets=['seq','H3K27Ac,H3K27Ac','H3K27Ac,H3K27Ac'],\n",
    "                    tdb_output_datasets=['H3K27Ac,H3K27Ac,DNASE','H3K27Ac,H3K27Ac,DNASE'],\n",
    "                    tdb_input_source_attribute=['seq','control_count_bigwig_plus_5p,control_count_bigwig_minus_5p','control_count_bigwig_plus_5p,control_count_bigwig_minus_5p'],\n",
    "                    tdb_output_source_attribute=['count_bigwig_plus_5p,count_bigwig_minus_5p,count_bigwig_unstranded_5p','count_bigwig_plus_5p,count_bigwig_minus_5p,count_bigwig_unstranded_5p'],\n",
    "                    tdb_input_flank=['3000','500,500','500,500'],\n",
    "                    tdb_output_flank=['500,500,500','500,500,500'],\n",
    "                    tdb_input_min=['None', 'None,None', 'None,None'], \n",
    "                    tdb_output_min=['None,None,None', 'None,None,None'],\n",
    "                    tdb_input_max=['None','None,None','None,None'],\n",
    "                    tdb_output_max=['None,None,None','None,None,None'],\n",
    "                    tdb_input_aggregation=['None','None,None','sum,sum'],\n",
    "                    tdb_input_transformation=['None','None,None','log,log'],\n",
    "                    tdb_output_aggregation=['None,None,None','sum,sum,sum'],\n",
    "                    tdb_output_transformation=['None,None,None','log,log,log'],\n",
    "                    tdb_partition_attribute_for_upsample='overlap_peak',\n",
    "                    tdb_partition_thresh_for_upsample=1,\n",
    "                    tdb_partition_datasets_for_upsample=['H3K27Ac'],\n",
    "                    upsample_ratio=1.0,\n",
    "                    shuffle_epoch_start=False,\n",
    "                    shuffle_epoch_end=False,\n",
    "                    return_coords=True,\n",
    "                    tdb_config=get_default_config(),\n",
    "                    tdb_ctx=tiledb.Ctx(config=get_default_config()),\n",
    "                    num_threads=24,\n",
    "                    pseudocount=1)\n",
    "                   "
   ]
  },
  {
   "cell_type": "code",
   "execution_count": 44,
   "metadata": {
    "ExecuteTime": {
     "end_time": "2020-09-15T06:38:11.509295Z",
     "start_time": "2020-09-15T06:38:11.125448Z"
    }
   },
   "outputs": [
    {
     "data": {
      "text/plain": [
       "46709983"
      ]
     },
     "execution_count": 44,
     "metadata": {},
     "output_type": "execute_result"
    }
   ],
   "source": [
    "gen.num_indices"
   ]
  },
  {
   "cell_type": "code",
   "execution_count": 45,
   "metadata": {
    "ExecuteTime": {
     "end_time": "2020-09-15T06:38:11.572257Z",
     "start_time": "2020-09-15T06:38:11.515177Z"
    }
   },
   "outputs": [
    {
     "data": {
      "text/plain": [
       "643447"
      ]
     },
     "execution_count": 45,
     "metadata": {},
     "output_type": "execute_result"
    }
   ],
   "source": [
    "gen.upsampled_indices_len"
   ]
  },
  {
   "cell_type": "code",
   "execution_count": 50,
   "metadata": {
    "ExecuteTime": {
     "end_time": "2020-09-15T06:38:26.198779Z",
     "start_time": "2020-09-15T06:38:25.220362Z"
    }
   },
   "outputs": [],
   "source": [
    "(X,y,coords)=gen[0]"
   ]
  },
  {
   "cell_type": "code",
   "execution_count": 51,
   "metadata": {
    "ExecuteTime": {
     "end_time": "2020-09-15T06:38:26.250661Z",
     "start_time": "2020-09-15T06:38:26.202476Z"
    }
   },
   "outputs": [
    {
     "data": {
      "text/plain": [
       "(50, 1000, 3)"
      ]
     },
     "execution_count": 51,
     "metadata": {},
     "output_type": "execute_result"
    }
   ],
   "source": [
    "y[0].shape"
   ]
  },
  {
   "cell_type": "code",
   "execution_count": 52,
   "metadata": {
    "ExecuteTime": {
     "end_time": "2020-09-15T06:38:27.091937Z",
     "start_time": "2020-09-15T06:38:27.032096Z"
    }
   },
   "outputs": [],
   "source": [
    "import matplotlib \n",
    "import matplotlib.pyplot as plt "
   ]
  },
  {
   "cell_type": "code",
   "execution_count": 54,
   "metadata": {
    "ExecuteTime": {
     "end_time": "2020-09-15T06:40:24.600988Z",
     "start_time": "2020-09-15T06:40:23.557304Z"
    }
   },
   "outputs": [
    {
     "data": {
      "text/plain": [
       "[<matplotlib.lines.Line2D at 0x7f4e0bfade50>]"
      ]
     },
     "execution_count": 54,
     "metadata": {},
     "output_type": "execute_result"
    },
    {
     "data": {
      "image/png": "[encoded data removed]",
      "text/plain": [
       "<Figure size 432x288 with 1 Axes>"
      ]
     },
     "metadata": {
      "needs_background": "light"
     },
     "output_type": "display_data"
    }
   ],
   "source": [
    "plt.plot(y[0][0,:,1])"
   ]
  },
  {
   "cell_type": "code",
   "execution_count": 55,
   "metadata": {
    "ExecuteTime": {
     "end_time": "2020-09-15T06:40:32.814933Z",
     "start_time": "2020-09-15T06:40:32.578917Z"
    }
   },
   "outputs": [
    {
     "data": {
      "text/plain": [
       "[<matplotlib.lines.Line2D at 0x7f4e0bf25050>]"
      ]
     },
     "execution_count": 55,
     "metadata": {},
     "output_type": "execute_result"
    },
    {
     "data": {
      "image/png": "[encoded data removed]",
      "text/plain": [
       "<Figure size 432x288 with 1 Axes>"
      ]
     },
     "metadata": {
      "needs_background": "light"
     },
     "output_type": "display_data"
    }
   ],
   "source": [
    "plt.plot(y[0][0,:,0])"
   ]
  },
  {
   "cell_type": "code",
   "execution_count": 56,
   "metadata": {
    "ExecuteTime": {
     "end_time": "2020-09-15T06:40:44.747195Z",
     "start_time": "2020-09-15T06:40:44.498898Z"
    }
   },
   "outputs": [
    {
     "data": {
      "text/plain": [
       "[<matplotlib.lines.Line2D at 0x7f4e0bf06550>]"
      ]
     },
     "execution_count": 56,
     "metadata": {},
     "output_type": "execute_result"
    },
    {
     "data": {
      "image/png": "[encoded data removed]",
      "text/plain": [
       "<Figure size 432x288 with 1 Axes>"
      ]
     },
     "metadata": {
      "needs_background": "light"
     },
     "output_type": "display_data"
    }
   ],
   "source": [
    "plt.plot(y[0][0,:,2])"
   ]
  },
  {
   "cell_type": "code",
   "execution_count": null,
   "metadata": {
    "ExecuteTime": {
     "end_time": "2020-06-10T03:12:54.869585Z",
     "start_time": "2020-06-10T03:12:54.788353Z"
    }
   },
   "outputs": [],
   "source": [
    "f.close()"
   ]
  },
  {
   "cell_type": "code",
   "execution_count": null,
   "metadata": {
    "ExecuteTime": {
     "end_time": "2020-06-10T03:12:56.044225Z",
     "start_time": "2020-06-10T03:12:55.378212Z"
    }
   },
   "outputs": [],
   "source": [
    "f=h5py.File('test.hdf5','w')"
   ]
  },
  {
   "cell_type": "code",
   "execution_count": null,
   "metadata": {
    "ExecuteTime": {
     "end_time": "2020-06-10T03:12:56.107056Z",
     "start_time": "2020-06-10T03:12:56.049432Z"
    }
   },
   "outputs": [],
   "source": [
    "dset=f.create_dataset('label_0',data=coords,maxshape=(None,)+coords.shape[1::])"
   ]
  },
  {
   "cell_type": "code",
   "execution_count": null,
   "metadata": {
    "ExecuteTime": {
     "end_time": "2020-06-10T03:12:57.722061Z",
     "start_time": "2020-06-10T03:12:56.524472Z"
    }
   },
   "outputs": [],
   "source": [
    "X1,y1,coords1=gen[1]"
   ]
  },
  {
   "cell_type": "code",
   "execution_count": null,
   "metadata": {
    "ExecuteTime": {
     "end_time": "2020-06-10T03:12:58.753052Z",
     "start_time": "2020-06-10T03:12:57.723829Z"
    }
   },
   "outputs": [],
   "source": [
    "coords1"
   ]
  },
  {
   "cell_type": "code",
   "execution_count": null,
   "metadata": {
    "ExecuteTime": {
     "end_time": "2020-06-10T03:12:58.889976Z",
     "start_time": "2020-06-10T03:12:58.757603Z"
    }
   },
   "outputs": [],
   "source": [
    "dset.resize(dset.shape[0]+y1[0].shape[0],axis=0)"
   ]
  },
  {
   "cell_type": "code",
   "execution_count": null,
   "metadata": {
    "ExecuteTime": {
     "end_time": "2020-06-10T03:13:00.706596Z",
     "start_time": "2020-06-10T03:13:00.597244Z"
    }
   },
   "outputs": [],
   "source": [
    "dset[-y1[0].shape[0]::]=y1[0]"
   ]
  },
  {
   "cell_type": "code",
   "execution_count": null,
   "metadata": {
    "ExecuteTime": {
     "end_time": "2020-06-10T03:09:32.813756Z",
     "start_time": "2020-06-10T03:08:55.799Z"
    }
   },
   "outputs": [],
   "source": [
    "len(f['label_0'])"
   ]
  },
  {
   "cell_type": "code",
   "execution_count": null,
   "metadata": {},
   "outputs": [],
   "source": []
  }
 ],
 "metadata": {
  "kernelspec": {
   "display_name": "Python 3",
   "language": "python",
   "name": "python3"
  },
  "language_info": {
   "codemirror_mode": {
    "name": "ipython",
    "version": 3
   },
   "file_extension": ".py",
   "mimetype": "text/x-python",
   "name": "python",
   "nbconvert_exporter": "python",
   "pygments_lexer": "ipython3",
   "version": "3.7.6"
  }
 },
 "nbformat": 4,
 "nbformat_minor": 2
}
