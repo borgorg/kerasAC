{
 "cells": [
  {
   "cell_type": "code",
   "execution_count": 1,
   "metadata": {
    "ExecuteTime": {
     "end_time": "2020-06-04T20:39:28.405481Z",
     "start_time": "2020-06-04T20:38:52.318469Z"
    }
   },
   "outputs": [
    {
     "name": "stderr",
     "output_type": "stream",
     "text": [
      "Using TensorFlow backend.\n"
     ]
    },
    {
     "name": "stdout",
     "output_type": "stream",
     "text": [
      "opening:/srv/scratch/annashch/encode_dnase_tiledb/db/histone for reading...\n",
      "success!\n",
      "got indices for used chroms\n",
      "identified task indices:[0]\n",
      "num_threads:24\n",
      "starting getting indices to upsample in range:2777473071-2824183054\n",
      "finished indices to upsample in range:2777473071-2824183054\n",
      "closed upsampling pool\n",
      "made upsampled index data frame\n",
      "finished upsampling\n",
      "created generator\n",
      "created predict generator\n"
     ]
    }
   ],
   "source": [
    "%load_ext autoreload\n",
    "%autoreload 2\n",
    "import kerasAC \n",
    "from kerasAC.generators.tiledb_generator import *\n",
    "from kerasAC.generators.tiledb_predict_generator import *\n",
    "\n",
    "from kerasAC.tiledb_config import *\n",
    "\n",
    "import tiledb \n",
    "gen=TiledbPredictGenerator(ref_fasta=\"/mnt/data/GRCh38_no_alt_analysis_set_GCA_000001405.15.fasta\",\n",
    "                    chroms=['chr21'],\n",
    "                    add_revcomp=True,\n",
    "                    chrom_sizes=\"/users/annashch/hg38.chrom.sizes\",\n",
    "                    batch_size=50,\n",
    "                    tdb_array=\"/srv/scratch/annashch/encode_dnase_tiledb/db/histone\",\n",
    "                    tdb_partition_attribute_for_upsample=\"overlap_peak\",\n",
    "                    tdb_partition_thresh_for_upsample=2,\n",
    "                    tdb_input_flank=[673, 500, 500],\n",
    "                    tdb_input_source_attribute=[\"seq\", \"count_bigwig_plus_5p\", \"count_bigwig_plus_5p\"],\n",
    "                    tdb_input_source_attribute_revcomp=[\"seq\", \"count_bigwig_minus_5p\", \"count_bigwig_minus_5p\"],\n",
    "                    tdb_input_aggregation=[None, None, \"sum\"],\n",
    "                    tdb_input_transformation=[None, None, \"log\"],\n",
    "                    tdb_output_source_attribute=[\"count_bigwig_plus_5p\",\"count_bigwig_plus_5p\"],\n",
    "                    tdb_output_source_attribute_revcomp=[\"count_bigwig_minus_5p\",\"count_bigwig_minus_5p\"],\n",
    "                    tdb_output_flank=[500,500],\n",
    "                    tdb_output_aggregation=[None,\"sum\"],\n",
    "                    tdb_output_transformation=[None,\"log\"],\n",
    "                    tdb_output_min=[None,None],\n",
    "                    tdb_output_max=[None,None],\n",
    "                    num_inputs=3,\n",
    "                    num_outputs=2,\n",
    "                    upsample_ratio=1.0,\n",
    "                    tasks=['K562'],\n",
    "                    tdb_ambig_attribute='ambig_peak',\n",
    "                    tdb_config=get_default_config(),\n",
    "                    tdb_ctx=tiledb.Ctx(config=get_default_config()),\n",
    "                    num_threads=24,\n",
    "                    pseudocount=0.001)\n",
    "                    "
   ]
  },
  {
   "cell_type": "code",
   "execution_count": 2,
   "metadata": {
    "ExecuteTime": {
     "end_time": "2020-06-04T20:39:28.478501Z",
     "start_time": "2020-06-04T20:39:28.410445Z"
    }
   },
   "outputs": [
    {
     "data": {
      "text/plain": [
       "46709983"
      ]
     },
     "execution_count": 2,
     "metadata": {},
     "output_type": "execute_result"
    }
   ],
   "source": [
    "gen.num_indices"
   ]
  },
  {
   "cell_type": "code",
   "execution_count": 3,
   "metadata": {
    "ExecuteTime": {
     "end_time": "2020-06-04T20:39:28.526355Z",
     "start_time": "2020-06-04T20:39:28.481508Z"
    }
   },
   "outputs": [
    {
     "data": {
      "text/plain": [
       "604"
      ]
     },
     "execution_count": 3,
     "metadata": {},
     "output_type": "execute_result"
    }
   ],
   "source": [
    "gen.upsampled_indices_len"
   ]
  },
  {
   "cell_type": "code",
   "execution_count": 4,
   "metadata": {
    "ExecuteTime": {
     "end_time": "2020-06-04T20:39:29.394842Z",
     "start_time": "2020-06-04T20:39:28.528336Z"
    }
   },
   "outputs": [
    {
     "name": "stdout",
     "output_type": "stream",
     "text": [
      "The autoreload extension is already loaded. To reload it, use:\n",
      "  %reload_ext autoreload\n",
      "[['chr21' '5128399' 'p']\n",
      " ['chr21' '5128399' 'r']\n",
      " ['chr21' '5240983' 'p']\n",
      " ['chr21' '5240983' 'r']\n",
      " ['chr21' '5242337' 'p']\n",
      " ['chr21' '5242337' 'r']\n",
      " ['chr21' '5243707' 'p']\n",
      " ['chr21' '5243707' 'r']\n",
      " ['chr21' '5244261' 'p']\n",
      " ['chr21' '5244261' 'r']\n",
      " ['chr21' '5244852' 'p']\n",
      " ['chr21' '5244852' 'r']\n",
      " ['chr21' '5246723' 'p']\n",
      " ['chr21' '5246723' 'r']\n",
      " ['chr21' '6368984' 'p']\n",
      " ['chr21' '6368984' 'r']\n",
      " ['chr21' '8759389' 'p']\n",
      " ['chr21' '8759389' 'r']\n",
      " ['chr21' '8773404' 'p']\n",
      " ['chr21' '8773404' 'r']\n",
      " ['chr21' '9767700' 'p']\n",
      " ['chr21' '9767700' 'r']\n",
      " ['chr21' '9823566' 'p']\n",
      " ['chr21' '9823566' 'r']\n",
      " ['chr21' '9836996' 'p']\n",
      " ['chr21' '9836996' 'r']\n",
      " ['chr21' '9837700' 'p']\n",
      " ['chr21' '9837700' 'r']\n",
      " ['chr21' '9839245' 'p']\n",
      " ['chr21' '9839245' 'r']\n",
      " ['chr21' '10119790' 'p']\n",
      " ['chr21' '10119790' 'r']\n",
      " ['chr21' '10412431' 'p']\n",
      " ['chr21' '10412431' 'r']\n",
      " ['chr21' '10413117' 'p']\n",
      " ['chr21' '10413117' 'r']\n",
      " ['chr21' '10413635' 'p']\n",
      " ['chr21' '10413635' 'r']\n",
      " ['chr21' '13974505' 'p']\n",
      " ['chr21' '13974505' 'r']\n",
      " ['chr21' '14027504' 'p']\n",
      " ['chr21' '14027504' 'r']\n",
      " ['chr21' '14273886' 'p']\n",
      " ['chr21' '14273886' 'r']\n",
      " ['chr21' '14381339' 'p']\n",
      " ['chr21' '14381339' 'r']\n",
      " ['chr21' '14383813' 'p']\n",
      " ['chr21' '14383813' 'r']\n",
      " ['chr21' '14451099' 'p']\n",
      " ['chr21' '14451099' 'r']]\n"
     ]
    }
   ],
   "source": [
    "%load_ext autoreload\n",
    "%autoreload 2\n",
    "import kerasAC \n",
    "from kerasAC.generators.tiledb_generator import *\n",
    "from kerasAC.generators.tiledb_predict_generator import *\n",
    "(X,y,coords)=gen[0]"
   ]
  },
  {
   "cell_type": "code",
   "execution_count": 5,
   "metadata": {
    "ExecuteTime": {
     "end_time": "2020-06-04T20:39:45.847466Z",
     "start_time": "2020-06-04T20:39:45.776357Z"
    }
   },
   "outputs": [
    {
     "data": {
      "text/plain": [
       "(50, 1346, 4)"
      ]
     },
     "execution_count": 5,
     "metadata": {},
     "output_type": "execute_result"
    }
   ],
   "source": [
    "X[0].shape"
   ]
  },
  {
   "cell_type": "code",
   "execution_count": 6,
   "metadata": {
    "ExecuteTime": {
     "end_time": "2020-06-04T20:39:48.440104Z",
     "start_time": "2020-06-04T20:39:48.374782Z"
    }
   },
   "outputs": [
    {
     "data": {
      "text/plain": [
       "(50, 1000, 1)"
      ]
     },
     "execution_count": 6,
     "metadata": {},
     "output_type": "execute_result"
    }
   ],
   "source": [
    "X[1].shape"
   ]
  },
  {
   "cell_type": "code",
   "execution_count": 7,
   "metadata": {
    "ExecuteTime": {
     "end_time": "2020-06-04T20:39:51.099890Z",
     "start_time": "2020-06-04T20:39:50.993169Z"
    }
   },
   "outputs": [
    {
     "data": {
      "text/plain": [
       "(50, 1)"
      ]
     },
     "execution_count": 7,
     "metadata": {},
     "output_type": "execute_result"
    }
   ],
   "source": [
    "X[2].shape"
   ]
  },
  {
   "cell_type": "code",
   "execution_count": 8,
   "metadata": {
    "ExecuteTime": {
     "end_time": "2020-06-04T20:41:02.164090Z",
     "start_time": "2020-06-04T20:41:01.125020Z"
    }
   },
   "outputs": [
    {
     "ename": "AttributeError",
     "evalue": "'list' object has no attribute 'shape'",
     "output_type": "error",
     "traceback": [
      "\u001b[0;31m---------------------------------------------------------------------------\u001b[0m",
      "\u001b[0;31mAttributeError\u001b[0m                            Traceback (most recent call last)",
      "\u001b[0;32m<ipython-input-8-3d861059fa55>\u001b[0m in \u001b[0;36m<module>\u001b[0;34m\u001b[0m\n\u001b[0;32m----> 1\u001b[0;31m \u001b[0my\u001b[0m\u001b[0;34m.\u001b[0m\u001b[0mshape\u001b[0m\u001b[0;34m\u001b[0m\u001b[0;34m\u001b[0m\u001b[0m\n\u001b[0m",
      "\u001b[0;31mAttributeError\u001b[0m: 'list' object has no attribute 'shape'"
     ]
    }
   ],
   "source": [
    "y.shape\n"
   ]
  },
  {
   "cell_type": "code",
   "execution_count": 9,
   "metadata": {
    "ExecuteTime": {
     "end_time": "2020-06-04T20:41:04.492298Z",
     "start_time": "2020-06-04T20:41:04.424493Z"
    }
   },
   "outputs": [
    {
     "data": {
      "text/plain": [
       "(50, 1000, 1)"
      ]
     },
     "execution_count": 9,
     "metadata": {},
     "output_type": "execute_result"
    }
   ],
   "source": [
    "y[0].shape"
   ]
  },
  {
   "cell_type": "code",
   "execution_count": 10,
   "metadata": {
    "ExecuteTime": {
     "end_time": "2020-06-04T20:41:07.267054Z",
     "start_time": "2020-06-04T20:41:07.198818Z"
    }
   },
   "outputs": [
    {
     "data": {
      "text/plain": [
       "(50, 1)"
      ]
     },
     "execution_count": 10,
     "metadata": {},
     "output_type": "execute_result"
    }
   ],
   "source": [
    "y[1].shape"
   ]
  },
  {
   "cell_type": "code",
   "execution_count": null,
   "metadata": {},
   "outputs": [],
   "source": []
  }
 ],
 "metadata": {
  "kernelspec": {
   "display_name": "Python 3",
   "language": "python",
   "name": "python3"
  },
  "language_info": {
   "codemirror_mode": {
    "name": "ipython",
    "version": 3
   },
   "file_extension": ".py",
   "mimetype": "text/x-python",
   "name": "python",
   "nbconvert_exporter": "python",
   "pygments_lexer": "ipython3",
   "version": "3.7.6"
  }
 },
 "nbformat": 4,
 "nbformat_minor": 2
}
