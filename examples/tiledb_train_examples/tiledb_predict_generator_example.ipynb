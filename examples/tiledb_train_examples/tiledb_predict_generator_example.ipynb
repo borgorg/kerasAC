{
 "cells": [
  {
   "cell_type": "code",
   "execution_count": 1,
   "metadata": {
    "ExecuteTime": {
     "end_time": "2020-06-09T05:12:21.574790Z",
     "start_time": "2020-06-09T05:09:47.084982Z"
    }
   },
   "outputs": [
    {
     "name": "stderr",
     "output_type": "stream",
     "text": [
      "Using TensorFlow backend.\n"
     ]
    },
    {
     "name": "stdout",
     "output_type": "stream",
     "text": [
      "opening:/srv/scratch/annashch/encode_dnase_tiledb/db/histone for reading...\n",
      "success!\n",
      "got indices for used chroms\n",
      "identified task indices:[0]\n",
      "num_threads:24\n",
      "starting getting indices to upsample in range:0-248956422\n",
      "finished indices to upsample in range:0-248956422\n",
      "closed upsampling pool\n",
      "made upsampled index data frame\n",
      "finished upsampling\n",
      "created generator\n",
      "created predict generator\n"
     ]
    }
   ],
   "source": [
    "%load_ext autoreload\n",
    "%autoreload 2\n",
    "import kerasAC \n",
    "from kerasAC.generators.tiledb_generator import *\n",
    "from kerasAC.generators.tiledb_predict_generator import *\n",
    "\n",
    "from kerasAC.tiledb_config import *\n",
    "\n",
    "import tiledb \n",
    "gen=TiledbPredictGenerator(ref_fasta=\"/mnt/data/GRCh38_no_alt_analysis_set_GCA_000001405.15.fasta\",\n",
    "                    chroms=['chr1'],\n",
    "                    add_revcomp=True,\n",
    "                    chrom_sizes=\"/users/annashch/hg38.chrom.sizes\",\n",
    "                    batch_size=50,\n",
    "                    tdb_array=\"/srv/scratch/annashch/encode_dnase_tiledb/db/histone\",\n",
    "                    tdb_partition_attribute_for_upsample=\"overlap_peak\",\n",
    "                    tdb_partition_thresh_for_upsample=2,\n",
    "                    tdb_input_flank=[673, 500, 500],\n",
    "                    tdb_input_source_attribute=[\"seq\", \"count_bigwig_plus_5p\", \"count_bigwig_plus_5p\"],\n",
    "                    tdb_input_source_attribute_revcomp=[\"seq\", \"count_bigwig_minus_5p\", \"count_bigwig_minus_5p\"],\n",
    "                    tdb_input_aggregation=[None, None, \"sum\"],\n",
    "                    tdb_input_transformation=[None, None, \"log\"],\n",
    "                    tdb_output_source_attribute=[\"count_bigwig_plus_5p\",\"count_bigwig_plus_5p\"],\n",
    "                    tdb_output_source_attribute_revcomp=[\"count_bigwig_minus_5p\",\"count_bigwig_minus_5p\"],\n",
    "                    tdb_output_flank=[500,500],\n",
    "                    tdb_output_aggregation=[None,\"sum\"],\n",
    "                    tdb_output_transformation=[None,\"log\"],\n",
    "                    tdb_output_min=[None,None],\n",
    "                    tdb_output_max=[None,None],\n",
    "                    num_inputs=3,\n",
    "                    num_outputs=2,\n",
    "                    upsample_ratio=1.0,\n",
    "                    tasks=['K562'],\n",
    "                    tdb_ambig_attribute='ambig_peak',\n",
    "                    tdb_config=get_default_config(),\n",
    "                    tdb_ctx=tiledb.Ctx(config=get_default_config()),\n",
    "                    num_threads=24,\n",
    "                    pseudocount=0.001)\n",
    "                    "
   ]
  },
  {
   "cell_type": "code",
   "execution_count": 5,
   "metadata": {
    "ExecuteTime": {
     "end_time": "2020-06-09T05:12:46.648565Z",
     "start_time": "2020-06-09T05:12:46.577773Z"
    }
   },
   "outputs": [
    {
     "data": {
      "text/plain": [
       "248956422"
      ]
     },
     "execution_count": 5,
     "metadata": {},
     "output_type": "execute_result"
    }
   ],
   "source": [
    "gen.num_indices"
   ]
  },
  {
   "cell_type": "code",
   "execution_count": 6,
   "metadata": {
    "ExecuteTime": {
     "end_time": "2020-06-09T05:12:47.045539Z",
     "start_time": "2020-06-09T05:12:46.984762Z"
    }
   },
   "outputs": [
    {
     "data": {
      "text/plain": [
       "5578"
      ]
     },
     "execution_count": 6,
     "metadata": {},
     "output_type": "execute_result"
    }
   ],
   "source": [
    "gen.upsampled_indices_len"
   ]
  },
  {
   "cell_type": "code",
   "execution_count": 7,
   "metadata": {
    "ExecuteTime": {
     "end_time": "2020-06-09T05:12:51.469733Z",
     "start_time": "2020-06-09T05:12:50.678280Z"
    }
   },
   "outputs": [
    {
     "name": "stdout",
     "output_type": "stream",
     "text": [
      "The autoreload extension is already loaded. To reload it, use:\n",
      "  %reload_ext autoreload\n",
      "tdb_batch_indices:[ 113934  120248  136894  137910  138534  139453  180774  778528  779115\n",
      "  825857  827414  842836  904597  958882  960648  966823  969451 1000618\n",
      " 1005211 1013696 1019689 1020237 1021046 1024222 1059196]\n",
      "start:113434\n",
      "end:114433\n",
      "start:119748\n",
      "end:120747\n",
      "start:136394\n",
      "end:137393\n",
      "start:137410\n",
      "end:138409\n",
      "start:138034\n",
      "end:139033\n",
      "start:138953\n",
      "end:139952\n",
      "start:180274\n",
      "end:181273\n",
      "start:778028\n",
      "end:779027\n",
      "start:778615\n",
      "end:779614\n",
      "start:825357\n",
      "end:826356\n",
      "start:826914\n",
      "end:827913\n",
      "start:842336\n",
      "end:843335\n",
      "start:904097\n",
      "end:905096\n",
      "start:958382\n",
      "end:959381\n",
      "start:960148\n",
      "end:961147\n",
      "start:966323\n",
      "end:967322\n",
      "start:968951\n",
      "end:969950\n",
      "start:1000118\n",
      "end:1001117\n",
      "start:1004711\n",
      "end:1005710\n",
      "start:1013196\n",
      "end:1014195\n",
      "start:1019189\n",
      "end:1020188\n",
      "start:1019737\n",
      "end:1020736\n",
      "start:1020546\n",
      "end:1021545\n",
      "start:1023722\n",
      "end:1024721\n",
      "start:1058696\n",
      "end:1059695\n",
      "start:113434\n",
      "end:114433\n",
      "start:119748\n",
      "end:120747\n",
      "start:136394\n",
      "end:137393\n",
      "start:137410\n",
      "end:138409\n",
      "start:138034\n",
      "end:139033\n",
      "start:138953\n",
      "end:139952\n",
      "start:180274\n",
      "end:181273\n",
      "start:778028\n",
      "end:779027\n",
      "start:778615\n",
      "end:779614\n",
      "start:825357\n",
      "end:826356\n",
      "start:826914\n",
      "end:827913\n",
      "start:842336\n",
      "end:843335\n",
      "start:904097\n",
      "end:905096\n",
      "start:958382\n",
      "end:959381\n",
      "start:960148\n",
      "end:961147\n",
      "start:966323\n",
      "end:967322\n",
      "start:968951\n",
      "end:969950\n",
      "start:1000118\n",
      "end:1001117\n",
      "start:1004711\n",
      "end:1005710\n",
      "start:1013196\n",
      "end:1014195\n",
      "start:1019189\n",
      "end:1020188\n",
      "start:1019737\n",
      "end:1020736\n",
      "start:1020546\n",
      "end:1021545\n",
      "start:1023722\n",
      "end:1024721\n",
      "start:1058696\n",
      "end:1059695\n",
      "start:113434\n",
      "end:114433\n",
      "start:119748\n",
      "end:120747\n",
      "start:136394\n",
      "end:137393\n",
      "start:137410\n",
      "end:138409\n",
      "start:138034\n",
      "end:139033\n",
      "start:138953\n",
      "end:139952\n",
      "start:180274\n",
      "end:181273\n",
      "start:778028\n",
      "end:779027\n",
      "start:778615\n",
      "end:779614\n",
      "start:825357\n",
      "end:826356\n",
      "start:826914\n",
      "end:827913\n",
      "start:842336\n",
      "end:843335\n",
      "start:904097\n",
      "end:905096\n",
      "start:958382\n",
      "end:959381\n",
      "start:960148\n",
      "end:961147\n",
      "start:966323\n",
      "end:967322\n",
      "start:968951\n",
      "end:969950\n",
      "start:1000118\n",
      "end:1001117\n",
      "start:1004711\n",
      "end:1005710\n",
      "start:1013196\n",
      "end:1014195\n",
      "start:1019189\n",
      "end:1020188\n",
      "start:1019737\n",
      "end:1020736\n",
      "start:1020546\n",
      "end:1021545\n",
      "start:1023722\n",
      "end:1024721\n",
      "start:1058696\n",
      "end:1059695\n",
      "start:113434\n",
      "end:114433\n",
      "start:119748\n",
      "end:120747\n",
      "start:136394\n",
      "end:137393\n",
      "start:137410\n",
      "end:138409\n",
      "start:138034\n",
      "end:139033\n",
      "start:138953\n",
      "end:139952\n",
      "start:180274\n",
      "end:181273\n",
      "start:778028\n",
      "end:779027\n",
      "start:778615\n",
      "end:779614\n",
      "start:825357\n",
      "end:826356\n",
      "start:826914\n",
      "end:827913\n",
      "start:842336\n",
      "end:843335\n",
      "start:904097\n",
      "end:905096\n",
      "start:958382\n",
      "end:959381\n",
      "start:960148\n",
      "end:961147\n",
      "start:966323\n",
      "end:967322\n",
      "start:968951\n",
      "end:969950\n",
      "start:1000118\n",
      "end:1001117\n",
      "start:1004711\n",
      "end:1005710\n",
      "start:1013196\n",
      "end:1014195\n",
      "start:1019189\n",
      "end:1020188\n",
      "start:1019737\n",
      "end:1020736\n",
      "start:1020546\n",
      "end:1021545\n",
      "start:1023722\n",
      "end:1024721\n",
      "start:1058696\n",
      "end:1059695\n",
      "start:113434\n",
      "end:114433\n",
      "start:119748\n",
      "end:120747\n",
      "start:136394\n",
      "end:137393\n",
      "start:137410\n",
      "end:138409\n",
      "start:138034\n",
      "end:139033\n",
      "start:138953\n",
      "end:139952\n",
      "start:180274\n",
      "end:181273\n",
      "start:778028\n",
      "end:779027\n",
      "start:778615\n",
      "end:779614\n",
      "start:825357\n",
      "end:826356\n",
      "start:826914\n",
      "end:827913\n",
      "start:842336\n",
      "end:843335\n",
      "start:904097\n",
      "end:905096\n",
      "start:958382\n",
      "end:959381\n",
      "start:960148\n",
      "end:961147\n",
      "start:966323\n",
      "end:967322\n",
      "start:968951\n",
      "end:969950\n",
      "start:1000118\n",
      "end:1001117\n",
      "start:1004711\n",
      "end:1005710\n",
      "start:1013196\n",
      "end:1014195\n",
      "start:1019189\n",
      "end:1020188\n",
      "start:1019737\n",
      "end:1020736\n",
      "start:1020546\n",
      "end:1021545\n",
      "start:1023722\n",
      "end:1024721\n",
      "start:1058696\n",
      "end:1059695\n",
      "start:113434\n",
      "end:114433\n",
      "start:119748\n",
      "end:120747\n",
      "start:136394\n",
      "end:137393\n",
      "start:137410\n",
      "end:138409\n",
      "start:138034\n",
      "end:139033\n",
      "start:138953\n",
      "end:139952\n",
      "start:180274\n",
      "end:181273\n",
      "start:778028\n",
      "end:779027\n",
      "start:778615\n",
      "end:779614\n",
      "start:825357\n",
      "end:826356\n",
      "start:826914\n",
      "end:827913\n",
      "start:842336\n",
      "end:843335\n",
      "start:904097\n",
      "end:905096\n",
      "start:958382\n",
      "end:959381\n",
      "start:960148\n",
      "end:961147\n",
      "start:966323\n",
      "end:967322\n",
      "start:968951\n",
      "end:969950\n",
      "start:1000118\n",
      "end:1001117\n",
      "start:1004711\n",
      "end:1005710\n",
      "start:1013196\n",
      "end:1014195\n",
      "start:1019189\n",
      "end:1020188\n",
      "start:1019737\n",
      "end:1020736\n",
      "start:1020546\n",
      "end:1021545\n",
      "start:1023722\n",
      "end:1024721\n",
      "start:1058696\n",
      "end:1059695\n",
      "start:113434\n",
      "end:114433\n",
      "start:119748\n",
      "end:120747\n",
      "start:136394\n",
      "end:137393\n",
      "start:137410\n",
      "end:138409\n",
      "start:138034\n",
      "end:139033\n",
      "start:138953\n",
      "end:139952\n",
      "start:180274\n",
      "end:181273\n",
      "start:778028\n",
      "end:779027\n",
      "start:778615\n",
      "end:779614\n",
      "start:825357\n",
      "end:826356\n",
      "start:826914\n",
      "end:827913\n",
      "start:842336\n",
      "end:843335\n",
      "start:904097\n",
      "end:905096\n",
      "start:958382\n",
      "end:959381\n",
      "start:960148\n",
      "end:961147\n",
      "start:966323\n",
      "end:967322\n",
      "start:968951\n",
      "end:969950\n",
      "start:1000118\n",
      "end:1001117\n",
      "start:1004711\n",
      "end:1005710\n",
      "start:1013196\n",
      "end:1014195\n",
      "start:1019189\n",
      "end:1020188\n",
      "start:1019737\n",
      "end:1020736\n",
      "start:1020546\n",
      "end:1021545\n",
      "start:1023722\n",
      "end:1024721\n",
      "start:1058696\n",
      "end:1059695\n",
      "start:113434\n",
      "end:114433\n",
      "start:119748\n",
      "end:120747\n",
      "start:136394\n",
      "end:137393\n",
      "start:137410\n",
      "end:138409\n",
      "start:138034\n",
      "end:139033\n",
      "start:138953\n",
      "end:139952\n",
      "start:180274\n",
      "end:181273\n",
      "start:778028\n",
      "end:779027\n",
      "start:778615\n",
      "end:779614\n",
      "start:825357\n",
      "end:826356\n",
      "start:826914\n",
      "end:827913\n",
      "start:842336\n",
      "end:843335\n",
      "start:904097\n",
      "end:905096\n",
      "start:958382\n",
      "end:959381\n",
      "start:960148\n",
      "end:961147\n",
      "start:966323\n",
      "end:967322\n",
      "start:968951\n",
      "end:969950\n",
      "start:1000118\n",
      "end:1001117\n",
      "start:1004711\n",
      "end:1005710\n",
      "start:1013196\n",
      "end:1014195\n",
      "start:1019189\n",
      "end:1020188\n",
      "start:1019737\n",
      "end:1020736\n",
      "start:1020546\n",
      "end:1021545\n",
      "start:1023722\n",
      "end:1024721\n",
      "start:1058696\n",
      "end:1059695\n",
      "[('chr1', 113934, 'p'), ('chr1', 113934, 'r'), ('chr1', 120248, 'p'), ('chr1', 120248, 'r'), ('chr1', 136894, 'p'), ('chr1', 136894, 'r'), ('chr1', 137910, 'p'), ('chr1', 137910, 'r'), ('chr1', 138534, 'p'), ('chr1', 138534, 'r'), ('chr1', 139453, 'p'), ('chr1', 139453, 'r'), ('chr1', 180774, 'p'), ('chr1', 180774, 'r'), ('chr1', 778528, 'p'), ('chr1', 778528, 'r'), ('chr1', 779115, 'p'), ('chr1', 779115, 'r'), ('chr1', 825857, 'p'), ('chr1', 825857, 'r'), ('chr1', 827414, 'p'), ('chr1', 827414, 'r'), ('chr1', 842836, 'p'), ('chr1', 842836, 'r'), ('chr1', 904597, 'p'), ('chr1', 904597, 'r'), ('chr1', 958882, 'p'), ('chr1', 958882, 'r'), ('chr1', 960648, 'p'), ('chr1', 960648, 'r'), ('chr1', 966823, 'p'), ('chr1', 966823, 'r'), ('chr1', 969451, 'p'), ('chr1', 969451, 'r'), ('chr1', 1000618, 'p'), ('chr1', 1000618, 'r'), ('chr1', 1005211, 'p'), ('chr1', 1005211, 'r'), ('chr1', 1013696, 'p'), ('chr1', 1013696, 'r'), ('chr1', 1019689, 'p'), ('chr1', 1019689, 'r'), ('chr1', 1020237, 'p'), ('chr1', 1020237, 'r'), ('chr1', 1021046, 'p'), ('chr1', 1021046, 'r'), ('chr1', 1024222, 'p'), ('chr1', 1024222, 'r'), ('chr1', 1059196, 'p'), ('chr1', 1059196, 'r')]\n"
     ]
    }
   ],
   "source": [
    "%load_ext autoreload\n",
    "%autoreload 2\n",
    "import kerasAC \n",
    "from kerasAC.generators.tiledb_generator import *\n",
    "from kerasAC.generators.tiledb_predict_generator import *\n",
    "(X,y,coords)=gen[0]"
   ]
  },
  {
   "cell_type": "code",
   "execution_count": 5,
   "metadata": {
    "ExecuteTime": {
     "end_time": "2020-06-04T20:39:45.847466Z",
     "start_time": "2020-06-04T20:39:45.776357Z"
    }
   },
   "outputs": [
    {
     "data": {
      "text/plain": [
       "(50, 1346, 4)"
      ]
     },
     "execution_count": 5,
     "metadata": {},
     "output_type": "execute_result"
    }
   ],
   "source": [
    "X[0].shape"
   ]
  },
  {
   "cell_type": "code",
   "execution_count": 6,
   "metadata": {
    "ExecuteTime": {
     "end_time": "2020-06-04T20:39:48.440104Z",
     "start_time": "2020-06-04T20:39:48.374782Z"
    }
   },
   "outputs": [
    {
     "data": {
      "text/plain": [
       "(50, 1000, 1)"
      ]
     },
     "execution_count": 6,
     "metadata": {},
     "output_type": "execute_result"
    }
   ],
   "source": [
    "X[1].shape"
   ]
  },
  {
   "cell_type": "code",
   "execution_count": 7,
   "metadata": {
    "ExecuteTime": {
     "end_time": "2020-06-04T20:39:51.099890Z",
     "start_time": "2020-06-04T20:39:50.993169Z"
    }
   },
   "outputs": [
    {
     "data": {
      "text/plain": [
       "(50, 1)"
      ]
     },
     "execution_count": 7,
     "metadata": {},
     "output_type": "execute_result"
    }
   ],
   "source": [
    "X[2].shape"
   ]
  },
  {
   "cell_type": "code",
   "execution_count": 9,
   "metadata": {
    "ExecuteTime": {
     "end_time": "2020-06-04T20:41:04.492298Z",
     "start_time": "2020-06-04T20:41:04.424493Z"
    }
   },
   "outputs": [
    {
     "data": {
      "text/plain": [
       "(50, 1000, 1)"
      ]
     },
     "execution_count": 9,
     "metadata": {},
     "output_type": "execute_result"
    }
   ],
   "source": [
    "y[0].shape"
   ]
  },
  {
   "cell_type": "code",
   "execution_count": 10,
   "metadata": {
    "ExecuteTime": {
     "end_time": "2020-06-04T20:41:07.267054Z",
     "start_time": "2020-06-04T20:41:07.198818Z"
    }
   },
   "outputs": [
    {
     "data": {
      "text/plain": [
       "(50, 1)"
      ]
     },
     "execution_count": 10,
     "metadata": {},
     "output_type": "execute_result"
    }
   ],
   "source": [
    "y[1].shape"
   ]
  },
  {
   "cell_type": "code",
   "execution_count": null,
   "metadata": {},
   "outputs": [],
   "source": []
  }
 ],
 "metadata": {
  "kernelspec": {
   "display_name": "Python 3",
   "language": "python",
   "name": "python3"
  },
  "language_info": {
   "codemirror_mode": {
    "name": "ipython",
    "version": 3
   },
   "file_extension": ".py",
   "mimetype": "text/x-python",
   "name": "python",
   "nbconvert_exporter": "python",
   "pygments_lexer": "ipython3",
   "version": "3.7.6"
  }
 },
 "nbformat": 4,
 "nbformat_minor": 2
}
