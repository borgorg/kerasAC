{
 "cells": [
  {
   "cell_type": "code",
   "execution_count": 2,
   "metadata": {
    "ExecuteTime": {
     "end_time": "2020-05-15T21:52:02.478455Z",
     "start_time": "2020-05-15T21:48:24.685341Z"
    }
   },
   "outputs": [
    {
     "name": "stderr",
     "output_type": "stream",
     "text": [
      "Using TensorFlow backend.\n"
     ]
    },
    {
     "name": "stdout",
     "output_type": "stream",
     "text": [
      "opening:/srv/scratch/annashch/encode_dnase_tiledb/db/dnase for reading...\n",
      "success!\n",
      "self.weighted_chrom_indices[(248956422, 491149951)]\n",
      "got indices for used chroms\n",
      "identified task indices:[2]\n",
      "num_threads:24\n",
      "starting getting indices to upsample in range:248956422-491149951\n",
      "finished indices to upsample in range:248956422-491149951\n",
      "closed upsampling pool\n",
      "made upsampled index data frame\n",
      "shuffling upsampled dataframes prior to start of training\n",
      "finished upsampling\n",
      "created generator\n"
     ]
    }
   ],
   "source": [
    "%load_ext autoreload\n",
    "%autoreload 2\n",
    "import kerasAC \n",
    "from kerasAC.generators.tiledb_generator import *\n",
    "from kerasAC.tiledb_config import *\n",
    "\n",
    "import tiledb \n",
    "gen=TiledbGenerator(ref_fasta=\"/mnt/data/GRCh38_no_alt_analysis_set_GCA_000001405.15.fasta\",\n",
    "                    chroms=['chr2'],\n",
    "                    batch_size=50,\n",
    "                    tdb_array=\"/srv/scratch/annashch/encode_dnase_tiledb/db/dnase\",\n",
    "                    tdb_partition_attribute_for_upsample=\"overlap_peak\",\n",
    "                    tdb_partition_thresh_for_upsample=1,\n",
    "                    tdb_input_flank=[673],\n",
    "                    tdb_input_source_attribute=[\"seq\"],\n",
    "                    tdb_input_aggregation=[None],\n",
    "                    tdb_input_transformation=[None],\n",
    "                    tdb_output_source_attribute=[\"count_bigwig_unstranded_5p\",\"count_bigwig_unstranded_5p\"],\n",
    "                    tdb_output_flank=[500,500],\n",
    "                    tdb_output_aggregation=[None,\"sum\"],\n",
    "                    tdb_output_transformation=[None,\"log\"],\n",
    "                    tdb_output_min=[None,4.6],\n",
    "                    tdb_output_max=[None,11.5],\n",
    "                    num_inputs=1,\n",
    "                    num_outputs=2,\n",
    "                    upsample_ratio=1.0,\n",
    "                    tasks=['ENCSR000EOT'],\n",
    "                    tdb_ambig_attribute='ambig_peak',\n",
    "                    shuffle_epoch_start=True,\n",
    "                    shuffle_epoch_end=True,\n",
    "                    return_coords=True,\n",
    "                    tdb_config=get_default_config(),\n",
    "                    tdb_ctx=tiledb.Ctx(config=get_default_config()),\n",
    "                    num_threads=24,\n",
    "                    tdb_bias_arrays=[\"/oak/stanford/groups/akundaje/projects/enzymatic_bias_correction/tiledb/SRR1565781\",\"/oak/stanford/groups/akundaje/projects/enzymatic_bias_correction/tiledb/SRR1565781\"],\n",
    "                    tdb_bias_source_attribute=['bigwig_track','bigwig_track'],\n",
    "                    tdb_bias_flank=[500,500],\n",
    "                    tdb_bias_aggregation=['sum',None],\n",
    "                    tdb_bias_transformation=['log','counts_to_logit'],\n",
    "                    bias_pseudocount=0.001,\n",
    "                    pseudocount=1)\n",
    "                    "
   ]
  },
  {
   "cell_type": "code",
   "execution_count": 5,
   "metadata": {
    "ExecuteTime": {
     "end_time": "2020-05-15T21:52:22.548098Z",
     "start_time": "2020-05-15T21:52:22.476658Z"
    }
   },
   "outputs": [
    {
     "data": {
      "text/plain": [
       "242193529"
      ]
     },
     "execution_count": 5,
     "metadata": {},
     "output_type": "execute_result"
    }
   ],
   "source": [
    "gen.num_indices"
   ]
  },
  {
   "cell_type": "code",
   "execution_count": 6,
   "metadata": {
    "ExecuteTime": {
     "end_time": "2020-05-15T21:52:23.019696Z",
     "start_time": "2020-05-15T21:52:22.950133Z"
    }
   },
   "outputs": [
    {
     "data": {
      "text/plain": [
       "4485996"
      ]
     },
     "execution_count": 6,
     "metadata": {},
     "output_type": "execute_result"
    }
   ],
   "source": [
    "gen.upsampled_indices_len"
   ]
  },
  {
   "cell_type": "code",
   "execution_count": 14,
   "metadata": {
    "ExecuteTime": {
     "end_time": "2020-05-15T22:03:52.946912Z",
     "start_time": "2020-05-15T22:03:50.662288Z"
    }
   },
   "outputs": [],
   "source": [
    "(X,y,coords)=gen[0]"
   ]
  }
 ],
 "metadata": {
  "kernelspec": {
   "display_name": "Python 3",
   "language": "python",
   "name": "python3"
  },
  "language_info": {
   "codemirror_mode": {
    "name": "ipython",
    "version": 3
   },
   "file_extension": ".py",
   "mimetype": "text/x-python",
   "name": "python",
   "nbconvert_exporter": "python",
   "pygments_lexer": "ipython3",
   "version": "3.7.6"
  }
 },
 "nbformat": 4,
 "nbformat_minor": 2
}
