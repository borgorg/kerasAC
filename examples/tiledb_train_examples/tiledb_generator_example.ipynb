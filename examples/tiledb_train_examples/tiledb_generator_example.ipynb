{
 "cells": [
  {
   "cell_type": "code",
   "execution_count": null,
   "metadata": {
    "ExecuteTime": {
     "end_time": "2020-04-02T05:10:42.651198Z",
     "start_time": "2020-04-02T05:07:46.497997Z"
    }
   },
   "outputs": [],
   "source": [
    "%load_ext autoreload\n",
    "%autoreload 2\n",
    "import kerasAC \n",
    "from kerasAC.generators.tiledb_generator import *\n",
    "from kerasAC.tiledb_config import *\n",
    "\n",
    "import tiledb \n",
    "gen=TiledbGenerator(ref_fasta=\"/mnt/data/GRCh38_no_alt_analysis_set_GCA_000001405.15.fasta\",\n",
    "                    batch_size=50,\n",
    "                    tdb_array=\"/srv/scratch/annashch/encode_dnase_tiledb/db/dnase\",\n",
    "                    tdb_partition_attribute_for_upsample=\"idr_peak\",\n",
    "                    tdb_partition_thresh_for_upsample=1,\n",
    "                    tdb_input_flank=[673],\n",
    "                    tdb_input_source_attribute=[\"seq\"],\n",
    "                    tdb_input_aggregation=[None],\n",
    "                    tdb_input_transformation=[None],\n",
    "                    tdb_output_source_attribute=[\"count_bigwig_unstranded_5p\",\"count_bigwig_unstranded_5p\"],\n",
    "                    tdb_output_flank=[500,500],\n",
    "                    tdb_output_aggregation=[None,\"sum\"],\n",
    "                    tdb_output_transformation=[None,\"asinh\"],\n",
    "                    num_inputs=1,\n",
    "                    num_outputs=2,\n",
    "                    chroms=['chr1','chr2','chr3','chr4','chr5','chr6','chr7','chr8','chr9','chr10','chr11','chr12','chr13','chr14','chr15','chr16','chr17','chr18','chr19','chr20','chr21','chr22','chrX','chrY'],\n",
    "                    upsample_ratio=1.0,\n",
    "                    tasks=['ENCSR000EOT'],\n",
    "                    tdb_ambig_attribute='ambig_peak',\n",
    "                    shuffle_epoch_start=True,\n",
    "                    shuffle_epoch_end=True,\n",
    "                    return_coords=True,\n",
    "                    tdb_config=get_default_config(),\n",
    "                    tdb_ctx=tiledb.Ctx(config=get_default_config()),\n",
    "                    num_threads=24)\n",
    "                    "
   ]
  },
  {
   "cell_type": "code",
   "execution_count": null,
   "metadata": {
    "ExecuteTime": {
     "end_time": "2020-04-02T05:12:41.548310Z",
     "start_time": "2020-04-02T05:12:39.936499Z"
    }
   },
   "outputs": [],
   "source": [
    "gen.num_indices"
   ]
  },
  {
   "cell_type": "code",
   "execution_count": null,
   "metadata": {
    "ExecuteTime": {
     "end_time": "2020-04-02T05:12:42.083587Z",
     "start_time": "2020-04-02T05:12:42.023312Z"
    }
   },
   "outputs": [],
   "source": [
    "gen.upsampled_indices_len"
   ]
  },
  {
   "cell_type": "code",
   "execution_count": null,
   "metadata": {
    "ExecuteTime": {
     "end_time": "2020-04-02T05:12:47.707876Z",
     "start_time": "2020-04-02T05:12:47.644241Z"
    }
   },
   "outputs": [],
   "source": [
    "gen.upsampled_indices[0:100]"
   ]
  },
  {
   "cell_type": "code",
   "execution_count": null,
   "metadata": {
    "ExecuteTime": {
     "end_time": "2020-04-02T05:12:49.247301Z",
     "start_time": "2020-04-02T05:12:48.451914Z"
    }
   },
   "outputs": [],
   "source": [
    "(X,y,coords)=gen[0]"
   ]
  },
  {
   "cell_type": "code",
   "execution_count": null,
   "metadata": {
    "ExecuteTime": {
     "end_time": "2020-04-02T05:12:50.227831Z",
     "start_time": "2020-04-02T05:12:50.161365Z"
    },
    "scrolled": true
   },
   "outputs": [],
   "source": [
    "y[1].shape"
   ]
  },
  {
   "cell_type": "code",
   "execution_count": null,
   "metadata": {
    "ExecuteTime": {
     "end_time": "2020-04-02T05:12:50.686052Z",
     "start_time": "2020-04-02T05:12:50.629254Z"
    }
   },
   "outputs": [],
   "source": [
    "vals=y[0][0].flatten()"
   ]
  },
  {
   "cell_type": "code",
   "execution_count": null,
   "metadata": {
    "ExecuteTime": {
     "end_time": "2020-04-02T05:12:51.030616Z",
     "start_time": "2020-04-02T05:12:50.956771Z"
    }
   },
   "outputs": [],
   "source": [
    "set(vals)\n"
   ]
  },
  {
   "cell_type": "code",
   "execution_count": null,
   "metadata": {},
   "outputs": [],
   "source": []
  },
  {
   "cell_type": "code",
   "execution_count": null,
   "metadata": {},
   "outputs": [],
   "source": []
  }
 ],
 "metadata": {
  "kernelspec": {
   "display_name": "Python 3",
   "language": "python",
   "name": "python3"
  },
  "language_info": {
   "codemirror_mode": {
    "name": "ipython",
    "version": 3
   },
   "file_extension": ".py",
   "mimetype": "text/x-python",
   "name": "python",
   "nbconvert_exporter": "python",
   "pygments_lexer": "ipython3",
   "version": "3.7.0"
  }
 },
 "nbformat": 4,
 "nbformat_minor": 2
}
