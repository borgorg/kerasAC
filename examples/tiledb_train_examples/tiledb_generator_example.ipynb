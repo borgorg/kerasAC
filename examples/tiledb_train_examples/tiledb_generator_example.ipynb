{
 "cells": [
  {
   "cell_type": "code",
   "execution_count": 1,
   "metadata": {
    "ExecuteTime": {
     "end_time": "2020-06-10T03:09:30.515932Z",
     "start_time": "2020-06-10T03:08:55.775957Z"
    }
   },
   "outputs": [
    {
     "name": "stderr",
     "output_type": "stream",
     "text": [
      "Using TensorFlow backend.\n"
     ]
    },
    {
     "name": "stdout",
     "output_type": "stream",
     "text": [
      "opening:/srv/scratch/annashch/encode_dnase_tiledb/db/histone for reading...\n",
      "success!\n",
      "got indices for used chroms\n",
      "identified task indices:[0]\n",
      "num_threads:24\n",
      "starting getting indices to upsample in range:2777473071-2824183054\n",
      "finished indices to upsample in range:2777473071-2824183054\n",
      "closed upsampling pool\n",
      "made upsampled index data frame\n",
      "shuffling upsampled dataframes prior to start of training\n",
      "finished upsampling\n",
      "created generator\n"
     ]
    }
   ],
   "source": [
    "%load_ext autoreload\n",
    "%autoreload 2\n",
    "import kerasAC \n",
    "from kerasAC.generators.tiledb_generator import *\n",
    "from kerasAC.tiledb_config import *\n",
    "\n",
    "import tiledb \n",
    "gen=TiledbGenerator(ref_fasta=\"/mnt/data/GRCh38_no_alt_analysis_set_GCA_000001405.15.fasta\",\n",
    "                    chroms=['chr21'],\n",
    "                    batch_size=50,\n",
    "                    tdb_array=\"/srv/scratch/annashch/encode_dnase_tiledb/db/histone\",\n",
    "                    tdb_partition_attribute_for_upsample=\"overlap_peak\",\n",
    "                    tdb_partition_thresh_for_upsample=1,\n",
    "                    tdb_input_flank=[673, 500, 500],\n",
    "                    tdb_input_source_attribute=[\"seq\", \"control_count_bigwig_plus_5p,control_count_bigwig_minus_5p\", \"control_count_bigwig_plus_5p,control_count_bigwig_minus_5p\"],\n",
    "                    tdb_input_aggregation=[None, None, 'sum'],\n",
    "                    tdb_input_transformation=[None, None, \"log\"],\n",
    "                    tdb_output_source_attribute=[\"count_bigwig_plus_5p,count_bigwig_minus_5p\",\"count_bigwig_plus_5p,count_bigwig_minus_5p\"],\n",
    "                    tdb_output_flank=[500,500],\n",
    "                    tdb_output_aggregation=[None,\"sum\"],\n",
    "                    tdb_output_transformation=[None,\"log\"],\n",
    "                    tdb_output_min=[None,4.6],\n",
    "                    tdb_output_max=[None,11.5],\n",
    "                    num_inputs=3,\n",
    "                    num_outputs=2,\n",
    "                    upsample_ratio=1.0,\n",
    "                    tasks=['K562'],\n",
    "                    tdb_ambig_attribute='ambig_peak',\n",
    "                    shuffle_epoch_start=True,\n",
    "                    shuffle_epoch_end=True,\n",
    "                    return_coords=True,\n",
    "                    tdb_config=get_default_config(),\n",
    "                    tdb_ctx=tiledb.Ctx(config=get_default_config()),\n",
    "                    num_threads=24,\n",
    "                    bias_pseudocount=0.001,\n",
    "                    pseudocount=1)\n",
    "                    "
   ]
  },
  {
   "cell_type": "code",
   "execution_count": 2,
   "metadata": {
    "ExecuteTime": {
     "end_time": "2020-06-10T03:09:30.582643Z",
     "start_time": "2020-06-10T03:09:30.520002Z"
    }
   },
   "outputs": [
    {
     "data": {
      "text/plain": [
       "46709983"
      ]
     },
     "execution_count": 2,
     "metadata": {},
     "output_type": "execute_result"
    }
   ],
   "source": [
    "gen.num_indices"
   ]
  },
  {
   "cell_type": "code",
   "execution_count": 3,
   "metadata": {
    "ExecuteTime": {
     "end_time": "2020-06-10T03:09:30.702721Z",
     "start_time": "2020-06-10T03:09:30.586716Z"
    }
   },
   "outputs": [
    {
     "data": {
      "text/plain": [
       "534142"
      ]
     },
     "execution_count": 3,
     "metadata": {},
     "output_type": "execute_result"
    }
   ],
   "source": [
    "gen.upsampled_indices_len"
   ]
  },
  {
   "cell_type": "code",
   "execution_count": 4,
   "metadata": {
    "ExecuteTime": {
     "end_time": "2020-06-10T03:09:31.992654Z",
     "start_time": "2020-06-10T03:09:30.707366Z"
    }
   },
   "outputs": [],
   "source": [
    "(X,y,coords)=gen[0]"
   ]
  },
  {
   "cell_type": "code",
   "execution_count": 5,
   "metadata": {
    "ExecuteTime": {
     "end_time": "2020-06-10T03:09:32.057549Z",
     "start_time": "2020-06-10T03:09:31.995324Z"
    }
   },
   "outputs": [
    {
     "data": {
      "text/plain": [
       "3"
      ]
     },
     "execution_count": 5,
     "metadata": {},
     "output_type": "execute_result"
    }
   ],
   "source": [
    "gen.num_inputs"
   ]
  },
  {
   "cell_type": "code",
   "execution_count": 9,
   "metadata": {
    "ExecuteTime": {
     "end_time": "2020-06-10T03:12:49.887527Z",
     "start_time": "2020-06-10T03:12:49.196502Z"
    }
   },
   "outputs": [
    {
     "data": {
      "text/plain": [
       "array([[b'chr21', b'42879234', b'.'],\n",
       "       [b'chr21', b'46500826', b'.'],\n",
       "       [b'chr21', b'29653730', b'.'],\n",
       "       [b'chr21', b'46638391', b'.'],\n",
       "       [b'chr21', b'21153288', b'.'],\n",
       "       [b'chr21', b'42974302', b'.'],\n",
       "       [b'chr21', b'29025575', b'.'],\n",
       "       [b'chr21', b'37368165', b'.'],\n",
       "       [b'chr21', b'15730125', b'.'],\n",
       "       [b'chr21', b'38121068', b'.'],\n",
       "       [b'chr21', b'29647906', b'.'],\n",
       "       [b'chr21', b'29655252', b'.'],\n",
       "       [b'chr21', b'44019137', b'.'],\n",
       "       [b'chr21', b'10414470', b'.'],\n",
       "       [b'chr21', b'35027038', b'.'],\n",
       "       [b'chr21', b'14455632', b'.'],\n",
       "       [b'chr21', b'29018868', b'.'],\n",
       "       [b'chr21', b'25735670', b'.'],\n",
       "       [b'chr21', b'39430233', b'.'],\n",
       "       [b'chr21', b'29306507', b'.'],\n",
       "       [b'chr21', b'14583761', b'.'],\n",
       "       [b'chr21', b'14527735', b'.'],\n",
       "       [b'chr21', b'14677508', b'.'],\n",
       "       [b'chr21', b'42009653', b'.'],\n",
       "       [b'chr21', b'44012152', b'.'],\n",
       "       [b'chr21', b'38806445', b'.'],\n",
       "       [b'chr21', b'10413214', b'.'],\n",
       "       [b'chr21', b'21153175', b'.'],\n",
       "       [b'chr21', b'46286334', b'.'],\n",
       "       [b'chr21', b'20259065', b'.']], dtype='|S8')"
      ]
     },
     "execution_count": 9,
     "metadata": {},
     "output_type": "execute_result"
    }
   ],
   "source": [
    "coords"
   ]
  },
  {
   "cell_type": "code",
   "execution_count": 10,
   "metadata": {
    "ExecuteTime": {
     "end_time": "2020-06-10T03:12:54.536747Z",
     "start_time": "2020-06-10T03:12:54.476915Z"
    }
   },
   "outputs": [],
   "source": [
    "import h5py"
   ]
  },
  {
   "cell_type": "code",
   "execution_count": 11,
   "metadata": {
    "ExecuteTime": {
     "end_time": "2020-06-10T03:12:54.869585Z",
     "start_time": "2020-06-10T03:12:54.788353Z"
    }
   },
   "outputs": [
    {
     "ename": "NameError",
     "evalue": "name 'f' is not defined",
     "output_type": "error",
     "traceback": [
      "\u001b[0;31m---------------------------------------------------------------------------\u001b[0m",
      "\u001b[0;31mNameError\u001b[0m                                 Traceback (most recent call last)",
      "\u001b[0;32m<ipython-input-11-b5edb7b78a9a>\u001b[0m in \u001b[0;36m<module>\u001b[0;34m\u001b[0m\n\u001b[0;32m----> 1\u001b[0;31m \u001b[0mf\u001b[0m\u001b[0;34m.\u001b[0m\u001b[0mclose\u001b[0m\u001b[0;34m(\u001b[0m\u001b[0;34m)\u001b[0m\u001b[0;34m\u001b[0m\u001b[0;34m\u001b[0m\u001b[0m\n\u001b[0m",
      "\u001b[0;31mNameError\u001b[0m: name 'f' is not defined"
     ]
    }
   ],
   "source": [
    "f.close()"
   ]
  },
  {
   "cell_type": "code",
   "execution_count": 12,
   "metadata": {
    "ExecuteTime": {
     "end_time": "2020-06-10T03:12:56.044225Z",
     "start_time": "2020-06-10T03:12:55.378212Z"
    }
   },
   "outputs": [],
   "source": [
    "f=h5py.File('test.hdf5','w')"
   ]
  },
  {
   "cell_type": "code",
   "execution_count": 13,
   "metadata": {
    "ExecuteTime": {
     "end_time": "2020-06-10T03:12:56.107056Z",
     "start_time": "2020-06-10T03:12:56.049432Z"
    }
   },
   "outputs": [],
   "source": [
    "dset=f.create_dataset('label_0',data=coords,maxshape=(None,)+coords.shape[1::])"
   ]
  },
  {
   "cell_type": "code",
   "execution_count": 14,
   "metadata": {
    "ExecuteTime": {
     "end_time": "2020-06-10T03:12:57.722061Z",
     "start_time": "2020-06-10T03:12:56.524472Z"
    }
   },
   "outputs": [],
   "source": [
    "X1,y1,coords1=gen[1]"
   ]
  },
  {
   "cell_type": "code",
   "execution_count": 15,
   "metadata": {
    "ExecuteTime": {
     "end_time": "2020-06-10T03:12:58.753052Z",
     "start_time": "2020-06-10T03:12:57.723829Z"
    }
   },
   "outputs": [
    {
     "data": {
      "text/plain": [
       "array([[b'chr21', b'29647957', b'.'],\n",
       "       [b'chr21', b'46500123', b'.'],\n",
       "       [b'chr21', b'19491820', b'.'],\n",
       "       [b'chr21', b'35051225', b'.'],\n",
       "       [b'chr21', b'31715063', b'.'],\n",
       "       [b'chr21', b'34995808', b'.'],\n",
       "       [b'chr21', b'42972998', b'.'],\n",
       "       [b'chr21', b'34074541', b'.'],\n",
       "       [b'chr21', b'31659534', b'.'],\n",
       "       [b'chr21', b'44013722', b'.'],\n",
       "       [b'chr21', b'46325205', b'.'],\n",
       "       [b'chr21', b'43767451', b'.'],\n",
       "       [b'chr21', b'38805508', b'.'],\n",
       "       [b'chr21', b'42547161', b'.'],\n",
       "       [b'chr21', b'39314584', b'.'],\n",
       "       [b'chr21', b'31732979', b'.'],\n",
       "       [b'chr21', b'14762712', b'.'],\n",
       "       [b'chr21', b'34996251', b'.'],\n",
       "       [b'chr21', b'33932018', b'.'],\n",
       "       [b'chr21', b'14763765', b'.'],\n",
       "       [b'chr21', b'38114413', b'.'],\n",
       "       [b'chr21', b'43922095', b'.'],\n",
       "       [b'chr21', b'31659343', b'.'],\n",
       "       [b'chr21', b'42009694', b'.']], dtype='|S8')"
      ]
     },
     "execution_count": 15,
     "metadata": {},
     "output_type": "execute_result"
    }
   ],
   "source": [
    "coords1"
   ]
  },
  {
   "cell_type": "code",
   "execution_count": 16,
   "metadata": {
    "ExecuteTime": {
     "end_time": "2020-06-10T03:12:58.889976Z",
     "start_time": "2020-06-10T03:12:58.757603Z"
    }
   },
   "outputs": [],
   "source": [
    "dset.resize(dset.shape[0]+y1[0].shape[0],axis=0)"
   ]
  },
  {
   "cell_type": "code",
   "execution_count": 17,
   "metadata": {
    "ExecuteTime": {
     "end_time": "2020-06-10T03:13:00.706596Z",
     "start_time": "2020-06-10T03:13:00.597244Z"
    }
   },
   "outputs": [
    {
     "ename": "TypeError",
     "evalue": "Can't broadcast (24, 1000, 2) -> (24, 3)",
     "output_type": "error",
     "traceback": [
      "\u001b[0;31m---------------------------------------------------------------------------\u001b[0m",
      "\u001b[0;31mTypeError\u001b[0m                                 Traceback (most recent call last)",
      "\u001b[0;32m<ipython-input-17-38417321d262>\u001b[0m in \u001b[0;36m<module>\u001b[0;34m\u001b[0m\n\u001b[0;32m----> 1\u001b[0;31m \u001b[0mdset\u001b[0m\u001b[0;34m[\u001b[0m\u001b[0;34m-\u001b[0m\u001b[0my1\u001b[0m\u001b[0;34m[\u001b[0m\u001b[0;36m0\u001b[0m\u001b[0;34m]\u001b[0m\u001b[0;34m.\u001b[0m\u001b[0mshape\u001b[0m\u001b[0;34m[\u001b[0m\u001b[0;36m0\u001b[0m\u001b[0;34m]\u001b[0m\u001b[0;34m:\u001b[0m\u001b[0;34m:\u001b[0m\u001b[0;34m]\u001b[0m\u001b[0;34m=\u001b[0m\u001b[0my1\u001b[0m\u001b[0;34m[\u001b[0m\u001b[0;36m0\u001b[0m\u001b[0;34m]\u001b[0m\u001b[0;34m\u001b[0m\u001b[0;34m\u001b[0m\u001b[0m\n\u001b[0m",
      "\u001b[0;32mh5py/_objects.pyx\u001b[0m in \u001b[0;36mh5py._objects.with_phil.wrapper\u001b[0;34m()\u001b[0m\n",
      "\u001b[0;32mh5py/_objects.pyx\u001b[0m in \u001b[0;36mh5py._objects.with_phil.wrapper\u001b[0;34m()\u001b[0m\n",
      "\u001b[0;32m~/miniconda3/lib/python3.7/site-packages/h5py/_hl/dataset.py\u001b[0m in \u001b[0;36m__setitem__\u001b[0;34m(self, args, val)\u001b[0m\n\u001b[1;32m    705\u001b[0m             \u001b[0mmshape_pad\u001b[0m \u001b[0;34m=\u001b[0m \u001b[0mmshape\u001b[0m\u001b[0;34m\u001b[0m\u001b[0;34m\u001b[0m\u001b[0m\n\u001b[1;32m    706\u001b[0m         \u001b[0mmspace\u001b[0m \u001b[0;34m=\u001b[0m \u001b[0mh5s\u001b[0m\u001b[0;34m.\u001b[0m\u001b[0mcreate_simple\u001b[0m\u001b[0;34m(\u001b[0m\u001b[0mmshape_pad\u001b[0m\u001b[0;34m,\u001b[0m \u001b[0;34m(\u001b[0m\u001b[0mh5s\u001b[0m\u001b[0;34m.\u001b[0m\u001b[0mUNLIMITED\u001b[0m\u001b[0;34m,\u001b[0m\u001b[0;34m)\u001b[0m\u001b[0;34m*\u001b[0m\u001b[0mlen\u001b[0m\u001b[0;34m(\u001b[0m\u001b[0mmshape_pad\u001b[0m\u001b[0;34m)\u001b[0m\u001b[0;34m)\u001b[0m\u001b[0;34m\u001b[0m\u001b[0;34m\u001b[0m\u001b[0m\n\u001b[0;32m--> 707\u001b[0;31m         \u001b[0;32mfor\u001b[0m \u001b[0mfspace\u001b[0m \u001b[0;32min\u001b[0m \u001b[0mselection\u001b[0m\u001b[0;34m.\u001b[0m\u001b[0mbroadcast\u001b[0m\u001b[0;34m(\u001b[0m\u001b[0mmshape\u001b[0m\u001b[0;34m)\u001b[0m\u001b[0;34m:\u001b[0m\u001b[0;34m\u001b[0m\u001b[0;34m\u001b[0m\u001b[0m\n\u001b[0m\u001b[1;32m    708\u001b[0m             \u001b[0mself\u001b[0m\u001b[0;34m.\u001b[0m\u001b[0mid\u001b[0m\u001b[0;34m.\u001b[0m\u001b[0mwrite\u001b[0m\u001b[0;34m(\u001b[0m\u001b[0mmspace\u001b[0m\u001b[0;34m,\u001b[0m \u001b[0mfspace\u001b[0m\u001b[0;34m,\u001b[0m \u001b[0mval\u001b[0m\u001b[0;34m,\u001b[0m \u001b[0mmtype\u001b[0m\u001b[0;34m,\u001b[0m \u001b[0mdxpl\u001b[0m\u001b[0;34m=\u001b[0m\u001b[0mself\u001b[0m\u001b[0;34m.\u001b[0m\u001b[0m_dxpl\u001b[0m\u001b[0;34m)\u001b[0m\u001b[0;34m\u001b[0m\u001b[0;34m\u001b[0m\u001b[0m\n\u001b[1;32m    709\u001b[0m \u001b[0;34m\u001b[0m\u001b[0m\n",
      "\u001b[0;32m~/miniconda3/lib/python3.7/site-packages/h5py/_hl/selections.py\u001b[0m in \u001b[0;36mbroadcast\u001b[0;34m(self, target_shape)\u001b[0m\n\u001b[1;32m    297\u001b[0m                     \u001b[0mtshape\u001b[0m\u001b[0;34m.\u001b[0m\u001b[0mappend\u001b[0m\u001b[0;34m(\u001b[0m\u001b[0mt\u001b[0m\u001b[0;34m)\u001b[0m\u001b[0;34m\u001b[0m\u001b[0;34m\u001b[0m\u001b[0m\n\u001b[1;32m    298\u001b[0m                 \u001b[0;32melse\u001b[0m\u001b[0;34m:\u001b[0m\u001b[0;34m\u001b[0m\u001b[0;34m\u001b[0m\u001b[0m\n\u001b[0;32m--> 299\u001b[0;31m                     \u001b[0;32mraise\u001b[0m \u001b[0mTypeError\u001b[0m\u001b[0;34m(\u001b[0m\u001b[0;34m\"Can't broadcast %s -> %s\"\u001b[0m \u001b[0;34m%\u001b[0m \u001b[0;34m(\u001b[0m\u001b[0mtarget_shape\u001b[0m\u001b[0;34m,\u001b[0m \u001b[0mself\u001b[0m\u001b[0;34m.\u001b[0m\u001b[0mmshape\u001b[0m\u001b[0;34m)\u001b[0m\u001b[0;34m)\u001b[0m\u001b[0;34m\u001b[0m\u001b[0;34m\u001b[0m\u001b[0m\n\u001b[0m\u001b[1;32m    300\u001b[0m \u001b[0;34m\u001b[0m\u001b[0m\n\u001b[1;32m    301\u001b[0m         \u001b[0;32mif\u001b[0m \u001b[0many\u001b[0m\u001b[0;34m(\u001b[0m\u001b[0;34m[\u001b[0m\u001b[0mn\u001b[0m \u001b[0;34m>\u001b[0m \u001b[0;36m1\u001b[0m \u001b[0;32mfor\u001b[0m \u001b[0mn\u001b[0m \u001b[0;32min\u001b[0m \u001b[0mtarget\u001b[0m\u001b[0;34m]\u001b[0m\u001b[0;34m)\u001b[0m\u001b[0;34m:\u001b[0m\u001b[0;34m\u001b[0m\u001b[0;34m\u001b[0m\u001b[0m\n",
      "\u001b[0;31mTypeError\u001b[0m: Can't broadcast (24, 1000, 2) -> (24, 3)"
     ]
    }
   ],
   "source": [
    "dset[-y1[0].shape[0]::]=y1[0]"
   ]
  },
  {
   "cell_type": "code",
   "execution_count": null,
   "metadata": {
    "ExecuteTime": {
     "end_time": "2020-06-10T03:09:32.813756Z",
     "start_time": "2020-06-10T03:08:55.799Z"
    }
   },
   "outputs": [],
   "source": [
    "len(f['label_0'])"
   ]
  },
  {
   "cell_type": "code",
   "execution_count": null,
   "metadata": {},
   "outputs": [],
   "source": []
  }
 ],
 "metadata": {
  "kernelspec": {
   "display_name": "Python 3",
   "language": "python",
   "name": "python3"
  },
  "language_info": {
   "codemirror_mode": {
    "name": "ipython",
    "version": 3
   },
   "file_extension": ".py",
   "mimetype": "text/x-python",
   "name": "python",
   "nbconvert_exporter": "python",
   "pygments_lexer": "ipython3",
   "version": "3.7.6"
  }
 },
 "nbformat": 4,
 "nbformat_minor": 2
}
