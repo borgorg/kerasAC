{
 "cells": [
  {
   "cell_type": "code",
   "execution_count": 9,
   "metadata": {
    "ExecuteTime": {
     "end_time": "2020-06-09T23:32:48.095164Z",
     "start_time": "2020-06-09T23:32:20.042628Z"
    }
   },
   "outputs": [
    {
     "name": "stdout",
     "output_type": "stream",
     "text": [
      "The autoreload extension is already loaded. To reload it, use:\n",
      "  %reload_ext autoreload\n",
      "opening:/srv/scratch/annashch/encode_dnase_tiledb/db/histone for reading...\n",
      "success!\n",
      "got indices for used chroms\n",
      "identified task indices:[0]\n",
      "num_threads:24\n",
      "starting getting indices to upsample in range:2777473071-2824183054\n",
      "finished indices to upsample in range:2777473071-2824183054\n",
      "closed upsampling pool\n",
      "made upsampled index data frame\n",
      "shuffling upsampled dataframes prior to start of training\n",
      "finished upsampling\n",
      "created generator\n"
     ]
    }
   ],
   "source": [
    "%load_ext autoreload\n",
    "%autoreload 2\n",
    "import kerasAC \n",
    "from kerasAC.generators.tiledb_generator import *\n",
    "from kerasAC.tiledb_config import *\n",
    "\n",
    "import tiledb \n",
    "gen=TiledbGenerator(ref_fasta=\"/mnt/data/GRCh38_no_alt_analysis_set_GCA_000001405.15.fasta\",\n",
    "                    chroms=['chr21'],\n",
    "                    batch_size=50,\n",
    "                    tdb_array=\"/srv/scratch/annashch/encode_dnase_tiledb/db/histone\",\n",
    "                    tdb_partition_attribute_for_upsample=\"overlap_peak\",\n",
    "                    tdb_partition_thresh_for_upsample=1,\n",
    "                    tdb_input_flank=[673, 500, 500],\n",
    "                    tdb_input_source_attribute=[\"seq\", \"control_count_bigwig_plus_5p,control_count_bigwig_minus_5p\", \"control_count_bigwig_plus_5p,control_count_bigwig_minus_5p\"],\n",
    "                    tdb_input_aggregation=[None, None, 'sum'],\n",
    "                    tdb_input_transformation=[None, None, \"log\"],\n",
    "                    tdb_output_source_attribute=[\"count_bigwig_plus_5p,count_bigwig_minus_5p\",\"count_bigwig_plus_5p,count_bigwig_minus_5p\"],\n",
    "                    tdb_output_flank=[500,500],\n",
    "                    tdb_output_aggregation=[None,\"sum\"],\n",
    "                    tdb_output_transformation=[None,\"log\"],\n",
    "                    tdb_output_min=[None,4.6],\n",
    "                    tdb_output_max=[None,11.5],\n",
    "                    num_inputs=3,\n",
    "                    num_outputs=2,\n",
    "                    upsample_ratio=1.0,\n",
    "                    tasks=['K562'],\n",
    "                    tdb_ambig_attribute='ambig_peak',\n",
    "                    shuffle_epoch_start=True,\n",
    "                    shuffle_epoch_end=True,\n",
    "                    return_coords=True,\n",
    "                    tdb_config=get_default_config(),\n",
    "                    tdb_ctx=tiledb.Ctx(config=get_default_config()),\n",
    "                    num_threads=24,\n",
    "                    bias_pseudocount=0.001,\n",
    "                    pseudocount=1)\n",
    "                    "
   ]
  },
  {
   "cell_type": "code",
   "execution_count": 10,
   "metadata": {
    "ExecuteTime": {
     "end_time": "2020-06-09T23:32:48.794455Z",
     "start_time": "2020-06-09T23:32:48.097794Z"
    }
   },
   "outputs": [
    {
     "data": {
      "text/plain": [
       "46709983"
      ]
     },
     "execution_count": 10,
     "metadata": {},
     "output_type": "execute_result"
    }
   ],
   "source": [
    "gen.num_indices"
   ]
  },
  {
   "cell_type": "code",
   "execution_count": 11,
   "metadata": {
    "ExecuteTime": {
     "end_time": "2020-06-09T23:32:48.854679Z",
     "start_time": "2020-06-09T23:32:48.798223Z"
    }
   },
   "outputs": [
    {
     "data": {
      "text/plain": [
       "534142"
      ]
     },
     "execution_count": 11,
     "metadata": {},
     "output_type": "execute_result"
    }
   ],
   "source": [
    "gen.upsampled_indices_len"
   ]
  },
  {
   "cell_type": "code",
   "execution_count": 26,
   "metadata": {
    "ExecuteTime": {
     "end_time": "2020-06-09T23:37:36.345197Z",
     "start_time": "2020-06-09T23:37:35.079229Z"
    }
   },
   "outputs": [],
   "source": [
    "(X,y,coords)=gen[0]"
   ]
  },
  {
   "cell_type": "code",
   "execution_count": 27,
   "metadata": {
    "ExecuteTime": {
     "end_time": "2020-06-09T23:37:36.697472Z",
     "start_time": "2020-06-09T23:37:36.636998Z"
    }
   },
   "outputs": [
    {
     "data": {
      "text/plain": [
       "3"
      ]
     },
     "execution_count": 27,
     "metadata": {},
     "output_type": "execute_result"
    }
   ],
   "source": [
    "gen.num_inputs"
   ]
  },
  {
   "cell_type": "code",
   "execution_count": 28,
   "metadata": {
    "ExecuteTime": {
     "end_time": "2020-06-09T23:37:38.104775Z",
     "start_time": "2020-06-09T23:37:38.034698Z"
    }
   },
   "outputs": [
    {
     "data": {
      "text/plain": [
       "[('chr21', 32547177, '.'),\n",
       " ('chr21', 21152914, '.'),\n",
       " ('chr21', 29306306, '.'),\n",
       " ('chr21', 28992222, '.'),\n",
       " ('chr21', 42009475, '.'),\n",
       " ('chr21', 42547729, '.'),\n",
       " ('chr21', 29316352, '.'),\n",
       " ('chr21', 39314750, '.'),\n",
       " ('chr21', 33948605, '.'),\n",
       " ('chr21', 42894180, '.'),\n",
       " ('chr21', 31735549, '.'),\n",
       " ('chr21', 33947097, '.'),\n",
       " ('chr21', 28992958, '.'),\n",
       " ('chr21', 34910242, '.'),\n",
       " ('chr21', 34110784, '.'),\n",
       " ('chr21', 44940578, '.'),\n",
       " ('chr21', 29072559, '.'),\n",
       " ('chr21', 43883866, '.'),\n",
       " ('chr21', 29024669, '.'),\n",
       " ('chr21', 46254024, '.'),\n",
       " ('chr21', 5243864, '.'),\n",
       " ('chr21', 34889384, '.')]"
      ]
     },
     "execution_count": 28,
     "metadata": {},
     "output_type": "execute_result"
    }
   ],
   "source": [
    "coords"
   ]
  },
  {
   "cell_type": "code",
   "execution_count": null,
   "metadata": {},
   "outputs": [],
   "source": []
  },
  {
   "cell_type": "code",
   "execution_count": 33,
   "metadata": {
    "ExecuteTime": {
     "end_time": "2020-06-09T23:37:58.665036Z",
     "start_time": "2020-06-09T23:37:58.598760Z"
    }
   },
   "outputs": [
    {
     "data": {
      "text/plain": [
       "(22, 2)"
      ]
     },
     "execution_count": 33,
     "metadata": {},
     "output_type": "execute_result"
    }
   ],
   "source": [
    "X[2].shape"
   ]
  },
  {
   "cell_type": "code",
   "execution_count": null,
   "metadata": {},
   "outputs": [],
   "source": []
  }
 ],
 "metadata": {
  "kernelspec": {
   "display_name": "Python 3",
   "language": "python",
   "name": "python3"
  },
  "language_info": {
   "codemirror_mode": {
    "name": "ipython",
    "version": 3
   },
   "file_extension": ".py",
   "mimetype": "text/x-python",
   "name": "python",
   "nbconvert_exporter": "python",
   "pygments_lexer": "ipython3",
   "version": "3.7.6"
  }
 },
 "nbformat": 4,
 "nbformat_minor": 2
}
